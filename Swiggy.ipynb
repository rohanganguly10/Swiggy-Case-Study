{
 "cells": [
  {
   "cell_type": "code",
   "execution_count": 1,
   "id": "26f629bb",
   "metadata": {},
   "outputs": [],
   "source": [
    "import pandas as pd\n",
    "import numpy as np\n",
    "import matplotlib.pyplot as plt\n",
    "import seaborn as sns"
   ]
  },
  {
   "cell_type": "code",
   "execution_count": 2,
   "id": "20fad025",
   "metadata": {},
   "outputs": [],
   "source": [
    "df = pd.read_csv('Swiggy.csv')"
   ]
  },
  {
   "cell_type": "markdown",
   "id": "64b34cc1",
   "metadata": {},
   "source": [
    "#### Checking basic information of the dataset"
   ]
  },
  {
   "cell_type": "code",
   "execution_count": 3,
   "id": "441d56d8",
   "metadata": {},
   "outputs": [
    {
     "data": {
      "text/html": [
       "<div>\n",
       "<style scoped>\n",
       "    .dataframe tbody tr th:only-of-type {\n",
       "        vertical-align: middle;\n",
       "    }\n",
       "\n",
       "    .dataframe tbody tr th {\n",
       "        vertical-align: top;\n",
       "    }\n",
       "\n",
       "    .dataframe thead th {\n",
       "        text-align: right;\n",
       "    }\n",
       "</style>\n",
       "<table border=\"1\" class=\"dataframe\">\n",
       "  <thead>\n",
       "    <tr style=\"text-align: right;\">\n",
       "      <th></th>\n",
       "      <th>ID</th>\n",
       "      <th>Area</th>\n",
       "      <th>City</th>\n",
       "      <th>Restaurant</th>\n",
       "      <th>Price</th>\n",
       "      <th>Avg ratings</th>\n",
       "      <th>Total ratings</th>\n",
       "      <th>Food type</th>\n",
       "      <th>Address</th>\n",
       "      <th>Delivery time</th>\n",
       "    </tr>\n",
       "  </thead>\n",
       "  <tbody>\n",
       "    <tr>\n",
       "      <th>0</th>\n",
       "      <td>211</td>\n",
       "      <td>Koramangala</td>\n",
       "      <td>Bangalore</td>\n",
       "      <td>Tandoor Hut</td>\n",
       "      <td>300.0</td>\n",
       "      <td>4.4</td>\n",
       "      <td>100</td>\n",
       "      <td>Biryani,Chinese,North Indian,South Indian</td>\n",
       "      <td>5Th Block</td>\n",
       "      <td>59</td>\n",
       "    </tr>\n",
       "    <tr>\n",
       "      <th>1</th>\n",
       "      <td>221</td>\n",
       "      <td>Koramangala</td>\n",
       "      <td>Bangalore</td>\n",
       "      <td>Tunday Kababi</td>\n",
       "      <td>300.0</td>\n",
       "      <td>4.1</td>\n",
       "      <td>100</td>\n",
       "      <td>Mughlai,Lucknowi</td>\n",
       "      <td>5Th Block</td>\n",
       "      <td>56</td>\n",
       "    </tr>\n",
       "    <tr>\n",
       "      <th>2</th>\n",
       "      <td>246</td>\n",
       "      <td>Jogupalya</td>\n",
       "      <td>Bangalore</td>\n",
       "      <td>Kim Lee</td>\n",
       "      <td>650.0</td>\n",
       "      <td>4.4</td>\n",
       "      <td>100</td>\n",
       "      <td>Chinese</td>\n",
       "      <td>Double Road</td>\n",
       "      <td>50</td>\n",
       "    </tr>\n",
       "    <tr>\n",
       "      <th>3</th>\n",
       "      <td>248</td>\n",
       "      <td>Indiranagar</td>\n",
       "      <td>Bangalore</td>\n",
       "      <td>New Punjabi Hotel</td>\n",
       "      <td>250.0</td>\n",
       "      <td>3.9</td>\n",
       "      <td>500</td>\n",
       "      <td>North Indian,Punjabi,Tandoor,Chinese</td>\n",
       "      <td>80 Feet Road</td>\n",
       "      <td>57</td>\n",
       "    </tr>\n",
       "    <tr>\n",
       "      <th>4</th>\n",
       "      <td>249</td>\n",
       "      <td>Indiranagar</td>\n",
       "      <td>Bangalore</td>\n",
       "      <td>Nh8</td>\n",
       "      <td>350.0</td>\n",
       "      <td>4.0</td>\n",
       "      <td>50</td>\n",
       "      <td>Rajasthani,Gujarati,North Indian,Snacks,Desser...</td>\n",
       "      <td>80 Feet Road</td>\n",
       "      <td>63</td>\n",
       "    </tr>\n",
       "  </tbody>\n",
       "</table>\n",
       "</div>"
      ],
      "text/plain": [
       "    ID         Area       City         Restaurant  Price  Avg ratings  \\\n",
       "0  211  Koramangala  Bangalore        Tandoor Hut  300.0          4.4   \n",
       "1  221  Koramangala  Bangalore      Tunday Kababi  300.0          4.1   \n",
       "2  246    Jogupalya  Bangalore            Kim Lee  650.0          4.4   \n",
       "3  248  Indiranagar  Bangalore  New Punjabi Hotel  250.0          3.9   \n",
       "4  249  Indiranagar  Bangalore                Nh8  350.0          4.0   \n",
       "\n",
       "   Total ratings                                          Food type  \\\n",
       "0            100          Biryani,Chinese,North Indian,South Indian   \n",
       "1            100                                   Mughlai,Lucknowi   \n",
       "2            100                                            Chinese   \n",
       "3            500               North Indian,Punjabi,Tandoor,Chinese   \n",
       "4             50  Rajasthani,Gujarati,North Indian,Snacks,Desser...   \n",
       "\n",
       "        Address  Delivery time  \n",
       "0     5Th Block             59  \n",
       "1     5Th Block             56  \n",
       "2   Double Road             50  \n",
       "3  80 Feet Road             57  \n",
       "4  80 Feet Road             63  "
      ]
     },
     "execution_count": 3,
     "metadata": {},
     "output_type": "execute_result"
    }
   ],
   "source": [
    "df.head()"
   ]
  },
  {
   "cell_type": "code",
   "execution_count": 4,
   "id": "4d7aa3ee",
   "metadata": {},
   "outputs": [
    {
     "name": "stdout",
     "output_type": "stream",
     "text": [
      "<class 'pandas.core.frame.DataFrame'>\n",
      "RangeIndex: 8680 entries, 0 to 8679\n",
      "Data columns (total 10 columns):\n",
      " #   Column         Non-Null Count  Dtype  \n",
      "---  ------         --------------  -----  \n",
      " 0   ID             8680 non-null   int64  \n",
      " 1   Area           8680 non-null   object \n",
      " 2   City           8680 non-null   object \n",
      " 3   Restaurant     8680 non-null   object \n",
      " 4   Price          8680 non-null   float64\n",
      " 5   Avg ratings    8680 non-null   float64\n",
      " 6   Total ratings  8680 non-null   int64  \n",
      " 7   Food type      8680 non-null   object \n",
      " 8   Address        8680 non-null   object \n",
      " 9   Delivery time  8680 non-null   int64  \n",
      "dtypes: float64(2), int64(3), object(5)\n",
      "memory usage: 678.3+ KB\n"
     ]
    }
   ],
   "source": [
    "df.info()"
   ]
  },
  {
   "cell_type": "code",
   "execution_count": 5,
   "id": "d4a6e54c",
   "metadata": {},
   "outputs": [
    {
     "data": {
      "text/html": [
       "<div>\n",
       "<style scoped>\n",
       "    .dataframe tbody tr th:only-of-type {\n",
       "        vertical-align: middle;\n",
       "    }\n",
       "\n",
       "    .dataframe tbody tr th {\n",
       "        vertical-align: top;\n",
       "    }\n",
       "\n",
       "    .dataframe thead th {\n",
       "        text-align: right;\n",
       "    }\n",
       "</style>\n",
       "<table border=\"1\" class=\"dataframe\">\n",
       "  <thead>\n",
       "    <tr style=\"text-align: right;\">\n",
       "      <th></th>\n",
       "      <th>ID</th>\n",
       "      <th>Price</th>\n",
       "      <th>Avg ratings</th>\n",
       "      <th>Total ratings</th>\n",
       "      <th>Delivery time</th>\n",
       "    </tr>\n",
       "  </thead>\n",
       "  <tbody>\n",
       "    <tr>\n",
       "      <th>count</th>\n",
       "      <td>8680.000000</td>\n",
       "      <td>8680.000000</td>\n",
       "      <td>8680.000000</td>\n",
       "      <td>8680.000000</td>\n",
       "      <td>8680.000000</td>\n",
       "    </tr>\n",
       "    <tr>\n",
       "      <th>mean</th>\n",
       "      <td>244812.071429</td>\n",
       "      <td>348.444470</td>\n",
       "      <td>3.655104</td>\n",
       "      <td>156.634793</td>\n",
       "      <td>53.967051</td>\n",
       "    </tr>\n",
       "    <tr>\n",
       "      <th>std</th>\n",
       "      <td>158671.617188</td>\n",
       "      <td>230.940074</td>\n",
       "      <td>0.647629</td>\n",
       "      <td>391.448014</td>\n",
       "      <td>14.292335</td>\n",
       "    </tr>\n",
       "    <tr>\n",
       "      <th>min</th>\n",
       "      <td>211.000000</td>\n",
       "      <td>0.000000</td>\n",
       "      <td>2.000000</td>\n",
       "      <td>20.000000</td>\n",
       "      <td>20.000000</td>\n",
       "    </tr>\n",
       "    <tr>\n",
       "      <th>25%</th>\n",
       "      <td>72664.000000</td>\n",
       "      <td>200.000000</td>\n",
       "      <td>2.900000</td>\n",
       "      <td>50.000000</td>\n",
       "      <td>44.000000</td>\n",
       "    </tr>\n",
       "    <tr>\n",
       "      <th>50%</th>\n",
       "      <td>283442.000000</td>\n",
       "      <td>300.000000</td>\n",
       "      <td>3.900000</td>\n",
       "      <td>80.000000</td>\n",
       "      <td>53.000000</td>\n",
       "    </tr>\n",
       "    <tr>\n",
       "      <th>75%</th>\n",
       "      <td>393425.250000</td>\n",
       "      <td>400.000000</td>\n",
       "      <td>4.200000</td>\n",
       "      <td>100.000000</td>\n",
       "      <td>64.000000</td>\n",
       "    </tr>\n",
       "    <tr>\n",
       "      <th>max</th>\n",
       "      <td>466928.000000</td>\n",
       "      <td>2500.000000</td>\n",
       "      <td>5.000000</td>\n",
       "      <td>10000.000000</td>\n",
       "      <td>109.000000</td>\n",
       "    </tr>\n",
       "  </tbody>\n",
       "</table>\n",
       "</div>"
      ],
      "text/plain": [
       "                  ID        Price  Avg ratings  Total ratings  Delivery time\n",
       "count    8680.000000  8680.000000  8680.000000    8680.000000    8680.000000\n",
       "mean   244812.071429   348.444470     3.655104     156.634793      53.967051\n",
       "std    158671.617188   230.940074     0.647629     391.448014      14.292335\n",
       "min       211.000000     0.000000     2.000000      20.000000      20.000000\n",
       "25%     72664.000000   200.000000     2.900000      50.000000      44.000000\n",
       "50%    283442.000000   300.000000     3.900000      80.000000      53.000000\n",
       "75%    393425.250000   400.000000     4.200000     100.000000      64.000000\n",
       "max    466928.000000  2500.000000     5.000000   10000.000000     109.000000"
      ]
     },
     "execution_count": 5,
     "metadata": {},
     "output_type": "execute_result"
    }
   ],
   "source": [
    "df.describe()"
   ]
  },
  {
   "cell_type": "code",
   "execution_count": 6,
   "id": "9f675356",
   "metadata": {},
   "outputs": [
    {
     "data": {
      "text/plain": [
       "(8680, 10)"
      ]
     },
     "execution_count": 6,
     "metadata": {},
     "output_type": "execute_result"
    }
   ],
   "source": [
    "df.shape"
   ]
  },
  {
   "cell_type": "code",
   "execution_count": 7,
   "id": "f0360e87",
   "metadata": {},
   "outputs": [
    {
     "data": {
      "text/plain": [
       "Index(['ID', 'Area', 'City', 'Restaurant', 'Price', 'Avg ratings',\n",
       "       'Total ratings', 'Food type', 'Address', 'Delivery time'],\n",
       "      dtype='object')"
      ]
     },
     "execution_count": 7,
     "metadata": {},
     "output_type": "execute_result"
    }
   ],
   "source": [
    "df.columns"
   ]
  },
  {
   "cell_type": "code",
   "execution_count": 8,
   "id": "ce27c194",
   "metadata": {},
   "outputs": [
    {
     "data": {
      "text/plain": [
       "ID                 int64\n",
       "Area              object\n",
       "City              object\n",
       "Restaurant        object\n",
       "Price            float64\n",
       "Avg ratings      float64\n",
       "Total ratings      int64\n",
       "Food type         object\n",
       "Address           object\n",
       "Delivery time      int64\n",
       "dtype: object"
      ]
     },
     "execution_count": 8,
     "metadata": {},
     "output_type": "execute_result"
    }
   ],
   "source": [
    "df.dtypes"
   ]
  },
  {
   "cell_type": "markdown",
   "id": "19c589e7",
   "metadata": {},
   "source": [
    "#### Dropping unnecessary columns from dataset"
   ]
  },
  {
   "cell_type": "code",
   "execution_count": 9,
   "id": "49f2036e",
   "metadata": {},
   "outputs": [
    {
     "data": {
      "text/html": [
       "<div>\n",
       "<style scoped>\n",
       "    .dataframe tbody tr th:only-of-type {\n",
       "        vertical-align: middle;\n",
       "    }\n",
       "\n",
       "    .dataframe tbody tr th {\n",
       "        vertical-align: top;\n",
       "    }\n",
       "\n",
       "    .dataframe thead th {\n",
       "        text-align: right;\n",
       "    }\n",
       "</style>\n",
       "<table border=\"1\" class=\"dataframe\">\n",
       "  <thead>\n",
       "    <tr style=\"text-align: right;\">\n",
       "      <th></th>\n",
       "      <th>Area</th>\n",
       "      <th>City</th>\n",
       "      <th>Restaurant</th>\n",
       "      <th>Price</th>\n",
       "      <th>Avg ratings</th>\n",
       "      <th>Delivery time</th>\n",
       "    </tr>\n",
       "  </thead>\n",
       "  <tbody>\n",
       "    <tr>\n",
       "      <th>0</th>\n",
       "      <td>Koramangala</td>\n",
       "      <td>Bangalore</td>\n",
       "      <td>Tandoor Hut</td>\n",
       "      <td>300.0</td>\n",
       "      <td>4.4</td>\n",
       "      <td>59</td>\n",
       "    </tr>\n",
       "    <tr>\n",
       "      <th>1</th>\n",
       "      <td>Koramangala</td>\n",
       "      <td>Bangalore</td>\n",
       "      <td>Tunday Kababi</td>\n",
       "      <td>300.0</td>\n",
       "      <td>4.1</td>\n",
       "      <td>56</td>\n",
       "    </tr>\n",
       "    <tr>\n",
       "      <th>2</th>\n",
       "      <td>Jogupalya</td>\n",
       "      <td>Bangalore</td>\n",
       "      <td>Kim Lee</td>\n",
       "      <td>650.0</td>\n",
       "      <td>4.4</td>\n",
       "      <td>50</td>\n",
       "    </tr>\n",
       "    <tr>\n",
       "      <th>3</th>\n",
       "      <td>Indiranagar</td>\n",
       "      <td>Bangalore</td>\n",
       "      <td>New Punjabi Hotel</td>\n",
       "      <td>250.0</td>\n",
       "      <td>3.9</td>\n",
       "      <td>57</td>\n",
       "    </tr>\n",
       "    <tr>\n",
       "      <th>4</th>\n",
       "      <td>Indiranagar</td>\n",
       "      <td>Bangalore</td>\n",
       "      <td>Nh8</td>\n",
       "      <td>350.0</td>\n",
       "      <td>4.0</td>\n",
       "      <td>63</td>\n",
       "    </tr>\n",
       "  </tbody>\n",
       "</table>\n",
       "</div>"
      ],
      "text/plain": [
       "          Area       City         Restaurant  Price  Avg ratings  \\\n",
       "0  Koramangala  Bangalore        Tandoor Hut  300.0          4.4   \n",
       "1  Koramangala  Bangalore      Tunday Kababi  300.0          4.1   \n",
       "2    Jogupalya  Bangalore            Kim Lee  650.0          4.4   \n",
       "3  Indiranagar  Bangalore  New Punjabi Hotel  250.0          3.9   \n",
       "4  Indiranagar  Bangalore                Nh8  350.0          4.0   \n",
       "\n",
       "   Delivery time  \n",
       "0             59  \n",
       "1             56  \n",
       "2             50  \n",
       "3             57  \n",
       "4             63  "
      ]
     },
     "execution_count": 9,
     "metadata": {},
     "output_type": "execute_result"
    }
   ],
   "source": [
    "df.drop(columns = ['Food type', 'Address', 'Total ratings', \"ID\"], inplace = True)\n",
    "df.head()"
   ]
  },
  {
   "cell_type": "markdown",
   "id": "f84e0f2d",
   "metadata": {},
   "source": [
    "#### Segregation of categorical and numerical columns"
   ]
  },
  {
   "cell_type": "code",
   "execution_count": 10,
   "id": "95d8a8f8",
   "metadata": {},
   "outputs": [],
   "source": [
    "cat_cols = df.dtypes == 'object'"
   ]
  },
  {
   "cell_type": "code",
   "execution_count": 11,
   "id": "f6cb6283",
   "metadata": {},
   "outputs": [],
   "source": [
    "cat_cols = cat_cols[cat_cols == True]"
   ]
  },
  {
   "cell_type": "code",
   "execution_count": 12,
   "id": "66c0656c",
   "metadata": {},
   "outputs": [],
   "source": [
    "cat_cols = list(cat_cols.index)"
   ]
  },
  {
   "cell_type": "code",
   "execution_count": 13,
   "id": "8834e563",
   "metadata": {},
   "outputs": [
    {
     "data": {
      "text/plain": [
       "['Area', 'City', 'Restaurant']"
      ]
     },
     "execution_count": 13,
     "metadata": {},
     "output_type": "execute_result"
    }
   ],
   "source": [
    "cat_cols"
   ]
  },
  {
   "cell_type": "code",
   "execution_count": 14,
   "id": "75ea1e3b",
   "metadata": {},
   "outputs": [],
   "source": [
    "num_cols = df.dtypes != 'object'"
   ]
  },
  {
   "cell_type": "code",
   "execution_count": 15,
   "id": "95124853",
   "metadata": {},
   "outputs": [],
   "source": [
    "num_cols = num_cols[num_cols == True]"
   ]
  },
  {
   "cell_type": "code",
   "execution_count": 16,
   "id": "0bbb94d4",
   "metadata": {},
   "outputs": [],
   "source": [
    "num_cols = list(num_cols.index)"
   ]
  },
  {
   "cell_type": "code",
   "execution_count": 17,
   "id": "52c7294c",
   "metadata": {},
   "outputs": [
    {
     "data": {
      "text/plain": [
       "['Price', 'Avg ratings', 'Delivery time']"
      ]
     },
     "execution_count": 17,
     "metadata": {},
     "output_type": "execute_result"
    }
   ],
   "source": [
    "num_cols"
   ]
  },
  {
   "cell_type": "markdown",
   "id": "783bdef9",
   "metadata": {},
   "source": [
    "#### Finding Missing Values in Dataset"
   ]
  },
  {
   "cell_type": "code",
   "execution_count": 18,
   "id": "0437254c",
   "metadata": {},
   "outputs": [
    {
     "data": {
      "text/plain": [
       "Area             0\n",
       "City             0\n",
       "Restaurant       0\n",
       "Price            0\n",
       "Avg ratings      0\n",
       "Delivery time    0\n",
       "dtype: int64"
      ]
     },
     "execution_count": 18,
     "metadata": {},
     "output_type": "execute_result"
    }
   ],
   "source": [
    "df.isnull().sum() # no missing value found"
   ]
  },
  {
   "cell_type": "code",
   "execution_count": 38,
   "id": "9237654c",
   "metadata": {},
   "outputs": [
    {
     "data": {
      "text/html": [
       "<div>\n",
       "<style scoped>\n",
       "    .dataframe tbody tr th:only-of-type {\n",
       "        vertical-align: middle;\n",
       "    }\n",
       "\n",
       "    .dataframe tbody tr th {\n",
       "        vertical-align: top;\n",
       "    }\n",
       "\n",
       "    .dataframe thead th {\n",
       "        text-align: right;\n",
       "    }\n",
       "</style>\n",
       "<table border=\"1\" class=\"dataframe\">\n",
       "  <thead>\n",
       "    <tr style=\"text-align: right;\">\n",
       "      <th></th>\n",
       "      <th>Area</th>\n",
       "      <th>City</th>\n",
       "      <th>Restaurant</th>\n",
       "      <th>Price</th>\n",
       "      <th>Avg ratings</th>\n",
       "      <th>Delivery time</th>\n",
       "    </tr>\n",
       "  </thead>\n",
       "  <tbody>\n",
       "    <tr>\n",
       "      <th>375</th>\n",
       "      <td>Anand Nagar</td>\n",
       "      <td>Pune</td>\n",
       "      <td>One Way Paratha</td>\n",
       "      <td>250.0</td>\n",
       "      <td>4.3</td>\n",
       "      <td>73</td>\n",
       "    </tr>\n",
       "    <tr>\n",
       "      <th>8079</th>\n",
       "      <td>Kuber Nagar</td>\n",
       "      <td>Ahmedabad</td>\n",
       "      <td>Cake Adda</td>\n",
       "      <td>100.0</td>\n",
       "      <td>2.9</td>\n",
       "      <td>80</td>\n",
       "    </tr>\n",
       "  </tbody>\n",
       "</table>\n",
       "</div>"
      ],
      "text/plain": [
       "             Area       City       Restaurant  Price  Avg ratings  \\\n",
       "375   Anand Nagar       Pune  One Way Paratha  250.0          4.3   \n",
       "8079  Kuber Nagar  Ahmedabad        Cake Adda  100.0          2.9   \n",
       "\n",
       "      Delivery time  \n",
       "375              73  \n",
       "8079             80  "
      ]
     },
     "execution_count": 38,
     "metadata": {},
     "output_type": "execute_result"
    }
   ],
   "source": [
    "df.loc[df.duplicated() == True]   # no duplicate value found"
   ]
  },
  {
   "cell_type": "markdown",
   "id": "7487a755",
   "metadata": {},
   "source": [
    "#### Finding unique values count per categorical columns"
   ]
  },
  {
   "cell_type": "code",
   "execution_count": 20,
   "id": "dc565159",
   "metadata": {},
   "outputs": [
    {
     "name": "stdout",
     "output_type": "stream",
     "text": [
      "Area has 833 values\n",
      "City has 9 values\n",
      "Restaurant has 7865 values\n"
     ]
    }
   ],
   "source": [
    "for i in cat_cols:\n",
    "    print(f'{i} has {df[i].nunique()} values')"
   ]
  },
  {
   "cell_type": "code",
   "execution_count": 22,
   "id": "216b2da4",
   "metadata": {},
   "outputs": [
    {
     "data": {
      "text/plain": [
       "array(['Bangalore', 'Hyderabad', 'Mumbai', 'Pune', 'Kolkata', 'Delhi',\n",
       "       'Chennai', 'Ahmedabad', 'Surat'], dtype=object)"
      ]
     },
     "execution_count": 22,
     "metadata": {},
     "output_type": "execute_result"
    }
   ],
   "source": [
    "df['City'].unique()"
   ]
  },
  {
   "cell_type": "markdown",
   "id": "bbb7e2a3",
   "metadata": {},
   "source": [
    "#### Count of area per city"
   ]
  },
  {
   "cell_type": "code",
   "execution_count": 23,
   "id": "50da9dc0",
   "metadata": {},
   "outputs": [
    {
     "data": {
      "text/html": [
       "<div>\n",
       "<style scoped>\n",
       "    .dataframe tbody tr th:only-of-type {\n",
       "        vertical-align: middle;\n",
       "    }\n",
       "\n",
       "    .dataframe tbody tr th {\n",
       "        vertical-align: top;\n",
       "    }\n",
       "\n",
       "    .dataframe thead th {\n",
       "        text-align: right;\n",
       "    }\n",
       "</style>\n",
       "<table border=\"1\" class=\"dataframe\">\n",
       "  <thead>\n",
       "    <tr style=\"text-align: right;\">\n",
       "      <th></th>\n",
       "      <th>Area</th>\n",
       "    </tr>\n",
       "    <tr>\n",
       "      <th>City</th>\n",
       "      <th></th>\n",
       "    </tr>\n",
       "  </thead>\n",
       "  <tbody>\n",
       "    <tr>\n",
       "      <th>Kolkata</th>\n",
       "      <td>1346</td>\n",
       "    </tr>\n",
       "    <tr>\n",
       "      <th>Mumbai</th>\n",
       "      <td>1277</td>\n",
       "    </tr>\n",
       "    <tr>\n",
       "      <th>Chennai</th>\n",
       "      <td>1106</td>\n",
       "    </tr>\n",
       "    <tr>\n",
       "      <th>Pune</th>\n",
       "      <td>1090</td>\n",
       "    </tr>\n",
       "    <tr>\n",
       "      <th>Hyderabad</th>\n",
       "      <td>1075</td>\n",
       "    </tr>\n",
       "    <tr>\n",
       "      <th>Bangalore</th>\n",
       "      <td>946</td>\n",
       "    </tr>\n",
       "    <tr>\n",
       "      <th>Ahmedabad</th>\n",
       "      <td>717</td>\n",
       "    </tr>\n",
       "    <tr>\n",
       "      <th>Delhi</th>\n",
       "      <td>611</td>\n",
       "    </tr>\n",
       "    <tr>\n",
       "      <th>Surat</th>\n",
       "      <td>512</td>\n",
       "    </tr>\n",
       "  </tbody>\n",
       "</table>\n",
       "</div>"
      ],
      "text/plain": [
       "           Area\n",
       "City           \n",
       "Kolkata    1346\n",
       "Mumbai     1277\n",
       "Chennai    1106\n",
       "Pune       1090\n",
       "Hyderabad  1075\n",
       "Bangalore   946\n",
       "Ahmedabad   717\n",
       "Delhi       611\n",
       "Surat       512"
      ]
     },
     "execution_count": 23,
     "metadata": {},
     "output_type": "execute_result"
    }
   ],
   "source": [
    "city_area_count = df.groupby('City')[['Area']].count().sort_values(by = 'Area', ascending = False)\n",
    "city_area_count"
   ]
  },
  {
   "cell_type": "code",
   "execution_count": 24,
   "id": "d9be35f4",
   "metadata": {},
   "outputs": [
    {
     "data": {
      "image/png": "[encoded data removed]",
      "text/plain": [
       "<Figure size 640x480 with 1 Axes>"
      ]
     },
     "metadata": {},
     "output_type": "display_data"
    }
   ],
   "source": [
    "sns.barplot(city_area_count, x = city_area_count.index, y = 'Area')\n",
    "plt.xticks(rotation = 90, fontsize = 8)\n",
    "plt.yticks(fontsize = 8)\n",
    "plt.title('Number of area registered per city for Swiggy')\n",
    "plt.show()"
   ]
  },
  {
   "cell_type": "markdown",
   "id": "e20e90a0",
   "metadata": {},
   "source": [
    "#### Area vs avg ratings per city"
   ]
  },
  {
   "cell_type": "code",
   "execution_count": 26,
   "id": "5633fc73",
   "metadata": {},
   "outputs": [
    {
     "data": {
      "text/html": [
       "<div>\n",
       "<style scoped>\n",
       "    .dataframe tbody tr th:only-of-type {\n",
       "        vertical-align: middle;\n",
       "    }\n",
       "\n",
       "    .dataframe tbody tr th {\n",
       "        vertical-align: top;\n",
       "    }\n",
       "\n",
       "    .dataframe thead th {\n",
       "        text-align: right;\n",
       "    }\n",
       "</style>\n",
       "<table border=\"1\" class=\"dataframe\">\n",
       "  <thead>\n",
       "    <tr style=\"text-align: right;\">\n",
       "      <th></th>\n",
       "      <th>Avg ratings</th>\n",
       "      <th>Area</th>\n",
       "    </tr>\n",
       "    <tr>\n",
       "      <th>City</th>\n",
       "      <th></th>\n",
       "      <th></th>\n",
       "    </tr>\n",
       "  </thead>\n",
       "  <tbody>\n",
       "    <tr>\n",
       "      <th>Chennai</th>\n",
       "      <td>3.776311</td>\n",
       "      <td>1106</td>\n",
       "    </tr>\n",
       "    <tr>\n",
       "      <th>Bangalore</th>\n",
       "      <td>3.762896</td>\n",
       "      <td>946</td>\n",
       "    </tr>\n",
       "    <tr>\n",
       "      <th>Hyderabad</th>\n",
       "      <td>3.701395</td>\n",
       "      <td>1075</td>\n",
       "    </tr>\n",
       "    <tr>\n",
       "      <th>Kolkata</th>\n",
       "      <td>3.698811</td>\n",
       "      <td>1346</td>\n",
       "    </tr>\n",
       "    <tr>\n",
       "      <th>Mumbai</th>\n",
       "      <td>3.599374</td>\n",
       "      <td>1277</td>\n",
       "    </tr>\n",
       "    <tr>\n",
       "      <th>Ahmedabad</th>\n",
       "      <td>3.596513</td>\n",
       "      <td>717</td>\n",
       "    </tr>\n",
       "    <tr>\n",
       "      <th>Surat</th>\n",
       "      <td>3.580078</td>\n",
       "      <td>512</td>\n",
       "    </tr>\n",
       "    <tr>\n",
       "      <th>Pune</th>\n",
       "      <td>3.550183</td>\n",
       "      <td>1090</td>\n",
       "    </tr>\n",
       "    <tr>\n",
       "      <th>Delhi</th>\n",
       "      <td>3.526350</td>\n",
       "      <td>611</td>\n",
       "    </tr>\n",
       "  </tbody>\n",
       "</table>\n",
       "</div>"
      ],
      "text/plain": [
       "           Avg ratings  Area\n",
       "City                        \n",
       "Chennai       3.776311  1106\n",
       "Bangalore     3.762896   946\n",
       "Hyderabad     3.701395  1075\n",
       "Kolkata       3.698811  1346\n",
       "Mumbai        3.599374  1277\n",
       "Ahmedabad     3.596513   717\n",
       "Surat         3.580078   512\n",
       "Pune          3.550183  1090\n",
       "Delhi         3.526350   611"
      ]
     },
     "execution_count": 26,
     "metadata": {},
     "output_type": "execute_result"
    }
   ],
   "source": [
    "city_area_ratings = df.groupby('City')[['Avg ratings', 'Area']].aggregate({'Avg ratings': 'mean', 'Area':'count'}).sort_values(by = 'Avg ratings',ascending = False)\n",
    "city_area_ratings"
   ]
  },
  {
   "cell_type": "code",
   "execution_count": 62,
   "id": "bed2406a",
   "metadata": {},
   "outputs": [
    {
     "data": {
      "image/png": "[encoded data removed]",
      "text/plain": [
       "<Figure size 800x400 with 1 Axes>"
      ]
     },
     "metadata": {},
     "output_type": "display_data"
    }
   ],
   "source": [
    "plt.figure(figsize=(8,4))\n",
    "sns.regplot(x='Area', y='Avg ratings', data=city_area_ratings, scatter=True, color='blue', marker='o', scatter_kws={'s': 50})\n",
    "plt.title('Area vs Average Rating per City')\n",
    "plt.xlabel('Area')\n",
    "plt.ylabel('Average Rating')\n",
    "plt.xticks(fontsize = 8)\n",
    "plt.yticks(fontsize = 8)\n",
    "plt.show()"
   ]
  },
  {
   "cell_type": "markdown",
   "id": "9a94c28e",
   "metadata": {},
   "source": [
    "#### Area vs Delivery time per City"
   ]
  },
  {
   "cell_type": "code",
   "execution_count": 30,
   "id": "b575045a",
   "metadata": {},
   "outputs": [
    {
     "data": {
      "text/html": [
       "<div>\n",
       "<style scoped>\n",
       "    .dataframe tbody tr th:only-of-type {\n",
       "        vertical-align: middle;\n",
       "    }\n",
       "\n",
       "    .dataframe tbody tr th {\n",
       "        vertical-align: top;\n",
       "    }\n",
       "\n",
       "    .dataframe thead th {\n",
       "        text-align: right;\n",
       "    }\n",
       "</style>\n",
       "<table border=\"1\" class=\"dataframe\">\n",
       "  <thead>\n",
       "    <tr style=\"text-align: right;\">\n",
       "      <th></th>\n",
       "      <th>Avg ratings</th>\n",
       "      <th>Delivery time</th>\n",
       "    </tr>\n",
       "    <tr>\n",
       "      <th>City</th>\n",
       "      <th></th>\n",
       "      <th></th>\n",
       "    </tr>\n",
       "  </thead>\n",
       "  <tbody>\n",
       "    <tr>\n",
       "      <th>Chennai</th>\n",
       "      <td>3.776311</td>\n",
       "      <td>58.97</td>\n",
       "    </tr>\n",
       "    <tr>\n",
       "      <th>Bangalore</th>\n",
       "      <td>3.762896</td>\n",
       "      <td>50.53</td>\n",
       "    </tr>\n",
       "    <tr>\n",
       "      <th>Hyderabad</th>\n",
       "      <td>3.701395</td>\n",
       "      <td>49.93</td>\n",
       "    </tr>\n",
       "    <tr>\n",
       "      <th>Kolkata</th>\n",
       "      <td>3.698811</td>\n",
       "      <td>67.81</td>\n",
       "    </tr>\n",
       "    <tr>\n",
       "      <th>Mumbai</th>\n",
       "      <td>3.599374</td>\n",
       "      <td>48.32</td>\n",
       "    </tr>\n",
       "    <tr>\n",
       "      <th>Ahmedabad</th>\n",
       "      <td>3.596513</td>\n",
       "      <td>44.71</td>\n",
       "    </tr>\n",
       "    <tr>\n",
       "      <th>Surat</th>\n",
       "      <td>3.580078</td>\n",
       "      <td>48.48</td>\n",
       "    </tr>\n",
       "    <tr>\n",
       "      <th>Pune</th>\n",
       "      <td>3.550183</td>\n",
       "      <td>55.85</td>\n",
       "    </tr>\n",
       "    <tr>\n",
       "      <th>Delhi</th>\n",
       "      <td>3.526350</td>\n",
       "      <td>50.73</td>\n",
       "    </tr>\n",
       "  </tbody>\n",
       "</table>\n",
       "</div>"
      ],
      "text/plain": [
       "           Avg ratings  Delivery time\n",
       "City                                 \n",
       "Chennai       3.776311          58.97\n",
       "Bangalore     3.762896          50.53\n",
       "Hyderabad     3.701395          49.93\n",
       "Kolkata       3.698811          67.81\n",
       "Mumbai        3.599374          48.32\n",
       "Ahmedabad     3.596513          44.71\n",
       "Surat         3.580078          48.48\n",
       "Pune          3.550183          55.85\n",
       "Delhi         3.526350          50.73"
      ]
     },
     "execution_count": 30,
     "metadata": {},
     "output_type": "execute_result"
    }
   ],
   "source": [
    "city_ratings_time = df.groupby('City')[['Avg ratings', 'Delivery time']].aggregate({'Avg ratings': 'mean', 'Delivery time':'mean'}).sort_values(by = 'Avg ratings',ascending = False)\n",
    "city_ratings_time['Delivery time'] = city_ratings_time['Delivery time'].round(2)\n",
    "city_ratings_time"
   ]
  },
  {
   "cell_type": "code",
   "execution_count": 61,
   "id": "513214f4",
   "metadata": {},
   "outputs": [
    {
     "data": {
      "image/png": "[encoded data removed]",
      "text/plain": [
       "<Figure size 800x400 with 1 Axes>"
      ]
     },
     "metadata": {},
     "output_type": "display_data"
    }
   ],
   "source": [
    "plt.figure(figsize=(8,4))\n",
    "sns.regplot(x='Avg ratings', y='Avg ratings', data=city_ratings_time, scatter=True, color='blue', marker='o', scatter_kws={'s': 50})\n",
    "plt.title('Area vs Delivery time per City')\n",
    "plt.xlabel('Delivery Time')\n",
    "plt.ylabel('Average Rating')\n",
    "plt.xticks(fontsize = 8)\n",
    "plt.yticks(fontsize = 8)\n",
    "plt.show()"
   ]
  },
  {
   "cell_type": "code",
   "execution_count": 59,
   "id": "a66aa882",
   "metadata": {},
   "outputs": [
    {
     "data": {
      "image/png": "[encoded data removed]",
      "text/plain": [
       "<Figure size 800x400 with 1 Axes>"
      ]
     },
     "metadata": {},
     "output_type": "display_data"
    },
    {
     "data": {
      "image/png": "[encoded data removed]",
      "text/plain": [
       "<Figure size 800x400 with 1 Axes>"
      ]
     },
     "metadata": {},
     "output_type": "display_data"
    }
   ],
   "source": [
    "# Scatter plot\n",
    "plt.figure(figsize=(8, 4))\n",
    "sns.scatterplot(data=city_ratings_time, x='Avg ratings', y='Delivery time', hue=city_ratings_time.index, s=100)\n",
    "plt.title('Average Ratings vs Delivery Time per City')\n",
    "plt.xlabel('Average Ratings')\n",
    "plt.ylabel('Delivery Time')\n",
    "plt.legend(title='City', bbox_to_anchor=(1.05, 1), loc='upper left')\n",
    "plt.grid(True)\n",
    "plt.tight_layout()\n",
    "plt.xticks(fontsize = 8)\n",
    "plt.yticks(fontsize = 8)\n",
    "plt.show()\n",
    "\n",
    "# Line plot\n",
    "plt.figure(figsize=(8,4))\n",
    "sns.lineplot(data=city_ratings_time, x=city_ratings_time.index, y='Delivery time', marker='o')\n",
    "plt.title('Delivery Time Trends per City')\n",
    "plt.xlabel('City')\n",
    "plt.ylabel('Delivery Time')\n",
    "plt.xticks(rotation=45)\n",
    "plt.grid(True)\n",
    "plt.tight_layout()\n",
    "plt.xticks(fontsize = 8)\n",
    "plt.yticks(fontsize = 8)\n",
    "plt.show()"
   ]
  },
  {
   "cell_type": "markdown",
   "id": "5eb05355",
   "metadata": {},
   "source": [
    "#### Most Favourite Restaurants accross all cities"
   ]
  },
  {
   "cell_type": "code",
   "execution_count": 63,
   "id": "534423df",
   "metadata": {},
   "outputs": [
    {
     "data": {
      "text/html": [
       "<div>\n",
       "<style scoped>\n",
       "    .dataframe tbody tr th:only-of-type {\n",
       "        vertical-align: middle;\n",
       "    }\n",
       "\n",
       "    .dataframe tbody tr th {\n",
       "        vertical-align: top;\n",
       "    }\n",
       "\n",
       "    .dataframe thead th {\n",
       "        text-align: right;\n",
       "    }\n",
       "</style>\n",
       "<table border=\"1\" class=\"dataframe\">\n",
       "  <thead>\n",
       "    <tr style=\"text-align: right;\">\n",
       "      <th></th>\n",
       "      <th>City</th>\n",
       "      <th>Avg ratings</th>\n",
       "      <th>Restaurant</th>\n",
       "    </tr>\n",
       "  </thead>\n",
       "  <tbody>\n",
       "    <tr>\n",
       "      <th>0</th>\n",
       "      <td>Ahmedabad</td>\n",
       "      <td>4.8</td>\n",
       "      <td>Ching Chong Chinese</td>\n",
       "    </tr>\n",
       "    <tr>\n",
       "      <th>1</th>\n",
       "      <td>Ahmedabad</td>\n",
       "      <td>4.8</td>\n",
       "      <td>Chup Chaap</td>\n",
       "    </tr>\n",
       "    <tr>\n",
       "      <th>2</th>\n",
       "      <td>Ahmedabad</td>\n",
       "      <td>4.8</td>\n",
       "      <td>Natural Ice Cream</td>\n",
       "    </tr>\n",
       "    <tr>\n",
       "      <th>3</th>\n",
       "      <td>Ahmedabad</td>\n",
       "      <td>4.8</td>\n",
       "      <td>Wok On Fire - Indo Chinese - Pan Asian</td>\n",
       "    </tr>\n",
       "    <tr>\n",
       "      <th>4</th>\n",
       "      <td>Bangalore</td>\n",
       "      <td>5.0</td>\n",
       "      <td>Creams &amp; Bites</td>\n",
       "    </tr>\n",
       "    <tr>\n",
       "      <th>5</th>\n",
       "      <td>Bangalore</td>\n",
       "      <td>5.0</td>\n",
       "      <td>Tricky Shakes</td>\n",
       "    </tr>\n",
       "    <tr>\n",
       "      <th>6</th>\n",
       "      <td>Chennai</td>\n",
       "      <td>5.0</td>\n",
       "      <td>Afresh</td>\n",
       "    </tr>\n",
       "    <tr>\n",
       "      <th>7</th>\n",
       "      <td>Delhi</td>\n",
       "      <td>5.0</td>\n",
       "      <td>Fat Tiger</td>\n",
       "    </tr>\n",
       "    <tr>\n",
       "      <th>8</th>\n",
       "      <td>Hyderabad</td>\n",
       "      <td>5.0</td>\n",
       "      <td>Splurge - Thickshakes And Milkshakes</td>\n",
       "    </tr>\n",
       "    <tr>\n",
       "      <th>9</th>\n",
       "      <td>Hyderabad</td>\n",
       "      <td>5.0</td>\n",
       "      <td>The Liege Waffles</td>\n",
       "    </tr>\n",
       "    <tr>\n",
       "      <th>10</th>\n",
       "      <td>Hyderabad</td>\n",
       "      <td>5.0</td>\n",
       "      <td>Wallonia Waffle Co.</td>\n",
       "    </tr>\n",
       "    <tr>\n",
       "      <th>11</th>\n",
       "      <td>Hyderabad</td>\n",
       "      <td>5.0</td>\n",
       "      <td>Zorro - Milkshakes And Thickshakes</td>\n",
       "    </tr>\n",
       "    <tr>\n",
       "      <th>12</th>\n",
       "      <td>Kolkata</td>\n",
       "      <td>5.0</td>\n",
       "      <td>Keventers Ice Creamery</td>\n",
       "    </tr>\n",
       "    <tr>\n",
       "      <th>13</th>\n",
       "      <td>Mumbai</td>\n",
       "      <td>5.0</td>\n",
       "      <td>Cafe Kokomo</td>\n",
       "    </tr>\n",
       "    <tr>\n",
       "      <th>14</th>\n",
       "      <td>Mumbai</td>\n",
       "      <td>5.0</td>\n",
       "      <td>Diamond Market Pizza Jp</td>\n",
       "    </tr>\n",
       "    <tr>\n",
       "      <th>15</th>\n",
       "      <td>Mumbai</td>\n",
       "      <td>5.0</td>\n",
       "      <td>Get In My Belly</td>\n",
       "    </tr>\n",
       "    <tr>\n",
       "      <th>16</th>\n",
       "      <td>Mumbai</td>\n",
       "      <td>5.0</td>\n",
       "      <td>Nivala Apka Apna</td>\n",
       "    </tr>\n",
       "    <tr>\n",
       "      <th>17</th>\n",
       "      <td>Mumbai</td>\n",
       "      <td>5.0</td>\n",
       "      <td>Snaxx</td>\n",
       "    </tr>\n",
       "    <tr>\n",
       "      <th>18</th>\n",
       "      <td>Mumbai</td>\n",
       "      <td>5.0</td>\n",
       "      <td>The Asian Pavilion</td>\n",
       "    </tr>\n",
       "    <tr>\n",
       "      <th>19</th>\n",
       "      <td>Pune</td>\n",
       "      <td>5.0</td>\n",
       "      <td>Papacream</td>\n",
       "    </tr>\n",
       "    <tr>\n",
       "      <th>20</th>\n",
       "      <td>Pune</td>\n",
       "      <td>5.0</td>\n",
       "      <td>Shree Krishna Juice Bar</td>\n",
       "    </tr>\n",
       "    <tr>\n",
       "      <th>21</th>\n",
       "      <td>Surat</td>\n",
       "      <td>4.8</td>\n",
       "      <td>Kudrati Kahumbo</td>\n",
       "    </tr>\n",
       "    <tr>\n",
       "      <th>22</th>\n",
       "      <td>Surat</td>\n",
       "      <td>4.8</td>\n",
       "      <td>Sobis Diet Farm</td>\n",
       "    </tr>\n",
       "    <tr>\n",
       "      <th>23</th>\n",
       "      <td>Surat</td>\n",
       "      <td>4.8</td>\n",
       "      <td>The Pancake Story</td>\n",
       "    </tr>\n",
       "  </tbody>\n",
       "</table>\n",
       "</div>"
      ],
      "text/plain": [
       "         City  Avg ratings                              Restaurant\n",
       "0   Ahmedabad          4.8                     Ching Chong Chinese\n",
       "1   Ahmedabad          4.8                              Chup Chaap\n",
       "2   Ahmedabad          4.8                       Natural Ice Cream\n",
       "3   Ahmedabad          4.8  Wok On Fire - Indo Chinese - Pan Asian\n",
       "4   Bangalore          5.0                          Creams & Bites\n",
       "5   Bangalore          5.0                           Tricky Shakes\n",
       "6     Chennai          5.0                                  Afresh\n",
       "7       Delhi          5.0                               Fat Tiger\n",
       "8   Hyderabad          5.0    Splurge - Thickshakes And Milkshakes\n",
       "9   Hyderabad          5.0                       The Liege Waffles\n",
       "10  Hyderabad          5.0                     Wallonia Waffle Co.\n",
       "11  Hyderabad          5.0      Zorro - Milkshakes And Thickshakes\n",
       "12    Kolkata          5.0                  Keventers Ice Creamery\n",
       "13     Mumbai          5.0                             Cafe Kokomo\n",
       "14     Mumbai          5.0                 Diamond Market Pizza Jp\n",
       "15     Mumbai          5.0                         Get In My Belly\n",
       "16     Mumbai          5.0                        Nivala Apka Apna\n",
       "17     Mumbai          5.0                                   Snaxx\n",
       "18     Mumbai          5.0                      The Asian Pavilion\n",
       "19       Pune          5.0                               Papacream\n",
       "20       Pune          5.0                 Shree Krishna Juice Bar\n",
       "21      Surat          4.8                         Kudrati Kahumbo\n",
       "22      Surat          4.8                         Sobis Diet Farm\n",
       "23      Surat          4.8                       The Pancake Story"
      ]
     },
     "execution_count": 63,
     "metadata": {},
     "output_type": "execute_result"
    }
   ],
   "source": [
    "city_restaurant_ratings = df.groupby(['City', 'Restaurant'])[['Avg ratings']].mean().reset_index()\n",
    "\n",
    "max_ratings_per_city = city_restaurant_ratings.groupby('City')[['Avg ratings']].max().reset_index()\n",
    "\n",
    "most_favorite_restaurants = pd.merge(max_ratings_per_city, city_restaurant_ratings, on=['City', 'Avg ratings'], how='left')\n",
    "\n",
    "pd.DataFrame(most_favorite_restaurants)"
   ]
  },
  {
   "cell_type": "markdown",
   "id": "987520ec",
   "metadata": {},
   "source": [
    "#### Average order value per city"
   ]
  },
  {
   "cell_type": "code",
   "execution_count": 36,
   "id": "2e43d343",
   "metadata": {},
   "outputs": [
    {
     "data": {
      "text/html": [
       "<div>\n",
       "<style scoped>\n",
       "    .dataframe tbody tr th:only-of-type {\n",
       "        vertical-align: middle;\n",
       "    }\n",
       "\n",
       "    .dataframe tbody tr th {\n",
       "        vertical-align: top;\n",
       "    }\n",
       "\n",
       "    .dataframe thead th {\n",
       "        text-align: right;\n",
       "    }\n",
       "</style>\n",
       "<table border=\"1\" class=\"dataframe\">\n",
       "  <thead>\n",
       "    <tr style=\"text-align: right;\">\n",
       "      <th></th>\n",
       "      <th>Price</th>\n",
       "      <th>Delivery time</th>\n",
       "      <th>Avg ratings</th>\n",
       "    </tr>\n",
       "    <tr>\n",
       "      <th>City</th>\n",
       "      <th></th>\n",
       "      <th></th>\n",
       "      <th></th>\n",
       "    </tr>\n",
       "  </thead>\n",
       "  <tbody>\n",
       "    <tr>\n",
       "      <th>Mumbai</th>\n",
       "      <td>393.79</td>\n",
       "      <td>48.32</td>\n",
       "      <td>3.60</td>\n",
       "    </tr>\n",
       "    <tr>\n",
       "      <th>Bangalore</th>\n",
       "      <td>382.52</td>\n",
       "      <td>50.53</td>\n",
       "      <td>3.76</td>\n",
       "    </tr>\n",
       "    <tr>\n",
       "      <th>Kolkata</th>\n",
       "      <td>362.29</td>\n",
       "      <td>67.81</td>\n",
       "      <td>3.70</td>\n",
       "    </tr>\n",
       "    <tr>\n",
       "      <th>Chennai</th>\n",
       "      <td>356.25</td>\n",
       "      <td>58.97</td>\n",
       "      <td>3.78</td>\n",
       "    </tr>\n",
       "    <tr>\n",
       "      <th>Pune</th>\n",
       "      <td>353.76</td>\n",
       "      <td>55.85</td>\n",
       "      <td>3.55</td>\n",
       "    </tr>\n",
       "    <tr>\n",
       "      <th>Delhi</th>\n",
       "      <td>333.30</td>\n",
       "      <td>50.73</td>\n",
       "      <td>3.53</td>\n",
       "    </tr>\n",
       "    <tr>\n",
       "      <th>Ahmedabad</th>\n",
       "      <td>318.13</td>\n",
       "      <td>44.71</td>\n",
       "      <td>3.60</td>\n",
       "    </tr>\n",
       "    <tr>\n",
       "      <th>Hyderabad</th>\n",
       "      <td>299.93</td>\n",
       "      <td>49.93</td>\n",
       "      <td>3.70</td>\n",
       "    </tr>\n",
       "    <tr>\n",
       "      <th>Surat</th>\n",
       "      <td>270.17</td>\n",
       "      <td>48.48</td>\n",
       "      <td>3.58</td>\n",
       "    </tr>\n",
       "  </tbody>\n",
       "</table>\n",
       "</div>"
      ],
      "text/plain": [
       "            Price  Delivery time  Avg ratings\n",
       "City                                         \n",
       "Mumbai     393.79          48.32         3.60\n",
       "Bangalore  382.52          50.53         3.76\n",
       "Kolkata    362.29          67.81         3.70\n",
       "Chennai    356.25          58.97         3.78\n",
       "Pune       353.76          55.85         3.55\n",
       "Delhi      333.30          50.73         3.53\n",
       "Ahmedabad  318.13          44.71         3.60\n",
       "Hyderabad  299.93          49.93         3.70\n",
       "Surat      270.17          48.48         3.58"
      ]
     },
     "execution_count": 36,
     "metadata": {},
     "output_type": "execute_result"
    }
   ],
   "source": [
    "city_avg_stats_sorted = df.groupby('City')[['Price', 'Delivery time', 'Avg ratings']].mean().round(2).sort_values(by = 'Price', ascending =False)\n",
    "city_avg_stats_sorted"
   ]
  },
  {
   "cell_type": "code",
   "execution_count": null,
   "id": "4accb8f3",
   "metadata": {},
   "outputs": [],
   "source": []
  }
 ],
 "metadata": {
  "kernelspec": {
   "display_name": "Python 3 (ipykernel)",
   "language": "python",
   "name": "python3"
  },
  "language_info": {
   "codemirror_mode": {
    "name": "ipython",
    "version": 3
   },
   "file_extension": ".py",
   "mimetype": "text/x-python",
   "name": "python",
   "nbconvert_exporter": "python",
   "pygments_lexer": "ipython3",
   "version": "3.11.5"
  }
 },
 "nbformat": 4,
 "nbformat_minor": 5
}
